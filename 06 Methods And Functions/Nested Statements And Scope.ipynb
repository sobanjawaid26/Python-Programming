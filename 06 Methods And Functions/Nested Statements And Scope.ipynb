{
 "cells": [
  {
   "cell_type": "code",
   "execution_count": 2,
   "metadata": {},
   "outputs": [
    {
     "name": "stdout",
     "output_type": "stream",
     "text": [
      "25\n"
     ]
    },
    {
     "data": {
      "text/plain": [
       "50"
      ]
     },
     "execution_count": 2,
     "metadata": {},
     "output_type": "execute_result"
    }
   ],
   "source": [
    "x = 25\n",
    "\n",
    "def func():\n",
    "    x = 50\n",
    "    return x\n",
    "print(x)\n",
    "func()"
   ]
  },
  {
   "cell_type": "code",
   "execution_count": 9,
   "metadata": {},
   "outputs": [
    {
     "name": "stdout",
     "output_type": "stream",
     "text": [
      "sammy\n"
     ]
    }
   ],
   "source": [
    "## enclosing function\n",
    "name = 'soban'\n",
    "def func1():\n",
    "    name = 'sammy'\n",
    "    def func2():\n",
    "        print(name)\n",
    "    func2()\n",
    "func1()\n"
   ]
  },
  {
   "cell_type": "code",
   "execution_count": 4,
   "metadata": {},
   "outputs": [
    {
     "name": "stdout",
     "output_type": "stream",
     "text": [
      "x is  20\n",
      "x changed to  2\n"
     ]
    }
   ],
   "source": [
    "x = 20\n",
    "\n",
    "def func(x):\n",
    "    print('x is ',x)\n",
    "    x = 2\n",
    "    print('x changed to ', x)\n",
    "func(x)"
   ]
  },
  {
   "cell_type": "code",
   "execution_count": 6,
   "metadata": {},
   "outputs": [
    {
     "name": "stdout",
     "output_type": "stream",
     "text": [
      "before running value of x is 20\n",
      "this function has global x 20\n",
      "x changed to  2\n",
      "value of x outside of func is 2\n"
     ]
    }
   ],
   "source": [
    "x = 20\n",
    "\n",
    "def func():\n",
    "    global x\n",
    "    print('this function has global x', x)\n",
    "    x = 2\n",
    "    print('x changed to ', x)\n",
    "print('before running value of x is', x)\n",
    "func()\n",
    "print('value of x outside of func is', x)"
   ]
  },
  {
   "cell_type": "code",
   "execution_count": null,
   "metadata": {},
   "outputs": [],
   "source": []
  }
 ],
 "metadata": {
  "kernelspec": {
   "display_name": "Python 3",
   "language": "python",
   "name": "python3"
  },
  "language_info": {
   "codemirror_mode": {
    "name": "ipython",
    "version": 3
   },
   "file_extension": ".py",
   "mimetype": "text/x-python",
   "name": "python",
   "nbconvert_exporter": "python",
   "pygments_lexer": "ipython3",
   "version": "3.7.1"
  }
 },
 "nbformat": 4,
 "nbformat_minor": 2
}
