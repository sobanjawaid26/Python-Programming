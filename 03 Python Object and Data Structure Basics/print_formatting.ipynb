{
 "cells": [
  {
   "cell_type": "code",
   "execution_count": 2,
   "metadata": {},
   "outputs": [
    {
     "name": "stdout",
     "output_type": "stream",
     "text": [
      "place my string here : 123\n",
      "Total students :  240, Boys :  120\n"
     ]
    }
   ],
   "source": [
    "x = 123\n",
    "print('place my string here : %s' %(x))\n",
    "print(\"Total students : % 3d, Boys : % 2d\" %(240, 120)) "
   ]
  },
  {
   "cell_type": "code",
   "execution_count": 3,
   "metadata": {},
   "outputs": [
    {
     "name": "stdout",
     "output_type": "stream",
     "text": [
      "place my string here : 1.200000\n"
     ]
    }
   ],
   "source": [
    "x = 1.20\n",
    "print('place my string here : %f' %(x))\n"
   ]
  },
  {
   "cell_type": "code",
   "execution_count": 4,
   "metadata": {},
   "outputs": [
    {
     "name": "stdout",
     "output_type": "stream",
     "text": [
      "place my string here : 1.2\n"
     ]
    }
   ],
   "source": [
    "x = 1.20\n",
    "print('place my string here : %1.1f' %(x))\n"
   ]
  },
  {
   "cell_type": "code",
   "execution_count": 5,
   "metadata": {},
   "outputs": [
    {
     "name": "stdout",
     "output_type": "stream",
     "text": [
      "place my string here : 1.20\n"
     ]
    }
   ],
   "source": [
    "x = 1.20\n",
    "print('place my string here : %2.2f' %(x))"
   ]
  },
  {
   "cell_type": "code",
   "execution_count": 6,
   "metadata": {},
   "outputs": [
    {
     "name": "stdout",
     "output_type": "stream",
     "text": [
      "place my string here : 11.20\n"
     ]
    }
   ],
   "source": [
    "x = 11.20\n",
    "print('place my string here : %1.2f' %(x))"
   ]
  },
  {
   "cell_type": "code",
   "execution_count": 7,
   "metadata": {},
   "outputs": [
    {
     "name": "stdout",
     "output_type": "stream",
     "text": [
      "place my string here : 1.200\n"
     ]
    }
   ],
   "source": [
    "x = 1.20\n",
    "print('place my string here : %2.3f' %(x))\n"
   ]
  },
  {
   "cell_type": "code",
   "execution_count": null,
   "metadata": {},
   "outputs": [],
   "source": []
  }
 ],
 "metadata": {
  "kernelspec": {
   "display_name": "Python 3",
   "language": "python",
   "name": "python3"
  },
  "language_info": {
   "codemirror_mode": {
    "name": "ipython",
    "version": 3
   },
   "file_extension": ".py",
   "mimetype": "text/x-python",
   "name": "python",
   "nbconvert_exporter": "python",
   "pygments_lexer": "ipython3",
   "version": "3.7.1"
  }
 },
 "nbformat": 4,
 "nbformat_minor": 2
}
